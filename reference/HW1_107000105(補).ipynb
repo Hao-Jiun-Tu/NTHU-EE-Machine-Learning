{
 "cells": [
  {
   "cell_type": "markdown",
   "metadata": {},
   "source": [
    "# <center>HW1</center> #\n",
    "####  107000105 楊晶宇\n",
    "***"
   ]
  },
  {
   "cell_type": "markdown",
   "metadata": {},
   "source": [
    "## <u>Question 1</u>"
   ]
  },
  {
   "cell_type": "markdown",
   "metadata": {},
   "source": [
    "### Implementation"
   ]
  },
  {
   "cell_type": "markdown",
   "metadata": {},
   "source": [
    "##### 1.引用函式庫"
   ]
  },
  {
   "cell_type": "code",
   "execution_count": 1,
   "metadata": {},
   "outputs": [],
   "source": [
    "import matplotlib.pyplot as plt\n",
    "import pandas as pd\n",
    "import math "
   ]
  },
  {
   "cell_type": "markdown",
   "metadata": {},
   "source": [
    "##### 2.定義平均、標準差、標準化函式"
   ]
  },
  {
   "cell_type": "markdown",
   "metadata": {},
   "source": [
    "######  (1)平均值"
   ]
  },
  {
   "cell_type": "code",
   "execution_count": 2,
   "metadata": {},
   "outputs": [],
   "source": [
    "def Mean(l):                # l是要算的數值(list)\n",
    "    total = 0\n",
    "    for i in l:\n",
    "        total += i\n",
    "    return total / len(l)    "
   ]
  },
  {
   "cell_type": "markdown",
   "metadata": {},
   "source": [
    "###### (2)標準差"
   ]
  },
  {
   "cell_type": "code",
   "execution_count": 3,
   "metadata": {},
   "outputs": [],
   "source": [
    "def Dev(l, M):            # l是要算的數值(list)， M是要算的數值的平均\n",
    "    total = 0             #存 (數值 - 平均)的平方的總和\n",
    "    for i in l:\n",
    "        total += math.pow((i - M),2) \n",
    "    return math.sqrt(total / len(l))"
   ]
  },
  {
   "cell_type": "markdown",
   "metadata": {},
   "source": [
    "###### (3)標準化"
   ]
  },
  {
   "cell_type": "code",
   "execution_count": 4,
   "metadata": {},
   "outputs": [],
   "source": [
    "def Std(x, M, D):\n",
    "    return (x - M) / D"
   ]
  },
  {
   "cell_type": "markdown",
   "metadata": {},
   "source": [
    "##### 3.宣告變數、定義dic方便對照字串"
   ]
  },
  {
   "cell_type": "code",
   "execution_count": 5,
   "metadata": {},
   "outputs": [],
   "source": [
    "feature_dic = {0:'sepal length', 1:'sepal width', 2:'petal length', 3:'petal width'}\n",
    "class_dic = {0:'Setosa', 1:'Versicolour', 2:'Virginica'}\n",
    "M = []\n",
    "D = []\n",
    "std_dic = {}  #給標準化後的data"
   ]
  },
  {
   "cell_type": "markdown",
   "metadata": {},
   "source": [
    "##### 4.讀取檔案"
   ]
  },
  {
   "cell_type": "code",
   "execution_count": 6,
   "metadata": {
    "scrolled": true
   },
   "outputs": [],
   "source": [
    "df = pd.read_csv('iris.data', header=None, encoding='utf-8')"
   ]
  },
  {
   "cell_type": "markdown",
   "metadata": {},
   "source": [
    "### Result"
   ]
  },
  {
   "cell_type": "markdown",
   "metadata": {},
   "source": [
    "##### 1.算平均與標準差\n",
    "* M, D是拿來存每一個feature的Mean和Deviation的list，方便之後標準化用\n",
    "* for loop 拿來跑4個feature"
   ]
  },
  {
   "cell_type": "code",
   "execution_count": 7,
   "metadata": {
    "scrolled": false
   },
   "outputs": [
    {
     "name": "stdout",
     "output_type": "stream",
     "text": [
      "Mean of sepal length of Setosa: 5.005999999999999\n",
      "Standard deviation of sepal length of Setosa: 0.348946987377739\n",
      "\n",
      "Mean of sepal width of Setosa: 3.4180000000000006\n",
      "Standard deviation of sepal width of Setosa: 0.37719490982779713\n",
      "\n",
      "Mean of petal length of Setosa: 1.464\n",
      "Standard deviation of petal length of Setosa: 0.17176728442867115\n",
      "\n",
      "Mean of petal width of Setosa: 0.2439999999999999\n",
      "Standard deviation of petal width of Setosa: 0.10613199329137278\n",
      "\n",
      "Mean of sepal length of Versicolour: 5.936\n",
      "Standard deviation of sepal length of Versicolour: 0.5109833656783752\n",
      "\n",
      "Mean of sepal width of Versicolour: 2.7700000000000005\n",
      "Standard deviation of sepal width of Versicolour: 0.31064449134018135\n",
      "\n",
      "Mean of petal length of Versicolour: 4.26\n",
      "Standard deviation of petal length of Versicolour: 0.4651881339845204\n",
      "\n",
      "Mean of petal width of Versicolour: 1.3259999999999998\n",
      "Standard deviation of petal width of Versicolour: 0.19576516544063702\n",
      "\n",
      "Mean of sepal length of Virginica: 6.587999999999998\n",
      "Standard deviation of sepal length of Virginica: 0.6294886813914925\n",
      "\n",
      "Mean of sepal width of Virginica: 2.9739999999999998\n",
      "Standard deviation of sepal width of Virginica: 0.319255383666431\n",
      "\n",
      "Mean of petal length of Virginica: 5.552\n",
      "Standard deviation of petal length of Virginica: 0.5463478745268441\n",
      "\n",
      "Mean of petal width of Virginica: 2.026\n",
      "Standard deviation of petal width of Virginica: 0.2718896835115301\n",
      "\n"
     ]
    }
   ],
   "source": [
    "for j in range(3):\n",
    "    for i in range(4):\n",
    "        M.append(Mean(df.loc[df[4] == j, i]))\n",
    "        D.append(Dev(df.loc[df[4] == j, i],Mean(df.loc[df[4] == j, i])))\n",
    "        print('Mean of ' + feature_dic[i] + ' of ' + class_dic[j] + ': ' + str(M[i + j*4]))\n",
    "        print('Standard deviation of ' + feature_dic[i] + ' of ' + class_dic[j] + ': ' + str(D[i + j*4]))\n",
    "        print()"
   ]
  },
  {
   "cell_type": "markdown",
   "metadata": {},
   "source": [
    "##### 2.標準化數值\n",
    "* std_dic拿來存標準化後的數據，update 4次4個feature(df[0:3])裡的所有值x\n",
    "* 第三行是把種類(column 4)原封不動丟進去"
   ]
  },
  {
   "cell_type": "code",
   "execution_count": 8,
   "metadata": {
    "scrolled": false
   },
   "outputs": [
    {
     "name": "stdout",
     "output_type": "stream",
     "text": [
      "std of features of Setosa : \n",
      "           0         1         2         3  4\n",
      "0   0.269382  0.217394 -0.372597 -0.414578  0\n",
      "1  -0.303771 -1.108180 -0.372597 -0.414578  0\n",
      "2  -0.876924 -0.577951 -0.954780 -0.414578  0\n",
      "3  -1.163501 -0.843065  0.209586 -0.414578  0\n",
      "4  -0.017195  0.482509 -0.372597 -0.414578  0\n",
      "5   1.129111  1.277854  1.373952  1.469868  0\n",
      "6  -1.163501 -0.047721 -0.372597  0.527645  0\n",
      "7  -0.017195 -0.047721  0.209586 -0.414578  0\n",
      "8  -1.736653 -1.373295 -0.372597 -0.414578  0\n",
      "9  -0.303771 -0.843065  0.209586 -1.356801  0\n",
      "10  1.129111  0.747624  0.209586 -0.414578  0\n",
      "11 -0.590348 -0.047721  0.791769 -0.414578  0\n",
      "12 -0.590348 -1.108180 -0.372597 -1.356801  0\n",
      "13 -2.023230 -1.108180 -2.119146 -1.356801  0\n",
      "14  2.275417  1.542969 -1.536963 -0.414578  0\n",
      "15  1.988841  2.603429  0.209586  1.469868  0\n",
      "16  1.129111  1.277854 -0.954780  1.469868  0\n",
      "17  0.269382  0.217394 -0.372597  0.527645  0\n",
      "18  1.988841  1.012739  1.373952  0.527645  0\n",
      "19  0.269382  1.012739  0.209586  0.527645  0\n",
      "20  1.129111 -0.047721  1.373952 -0.414578  0\n",
      "21  0.269382  0.747624  0.209586  1.469868  0\n",
      "22 -1.163501  0.482509 -2.701329 -0.414578  0\n",
      "23  0.269382 -0.312836  1.373952  2.412091  0\n",
      "24 -0.590348 -0.047721  2.538318 -0.414578  0\n",
      "25 -0.017195 -1.108180  0.791769 -0.414578  0\n",
      "26 -0.017195 -0.047721  0.791769  1.469868  0\n",
      "27  0.555958  0.217394  0.209586 -0.414578  0\n",
      "28  0.555958 -0.047721 -0.372597 -0.414578  0\n",
      "29 -0.876924 -0.577951  0.791769 -0.414578  0\n",
      "30 -0.590348 -0.843065  0.791769 -0.414578  0\n",
      "31  1.129111 -0.047721  0.209586  1.469868  0\n",
      "32  0.555958  1.808084  0.209586 -1.356801  0\n",
      "33  1.415688  2.073199 -0.372597 -0.414578  0\n",
      "34 -0.303771 -0.843065  0.209586 -1.356801  0\n",
      "35 -0.017195 -0.577951 -1.536963 -0.414578  0\n",
      "36  1.415688  0.217394 -0.954780 -0.414578  0\n",
      "37 -0.303771 -0.843065  0.209586 -1.356801  0\n",
      "38 -1.736653 -1.108180 -0.954780 -0.414578  0\n",
      "39  0.269382 -0.047721  0.209586 -0.414578  0\n",
      "40 -0.017195  0.217394 -0.954780  0.527645  0\n",
      "41 -1.450077 -2.963985 -0.954780  0.527645  0\n",
      "42 -1.736653 -0.577951 -0.954780 -0.414578  0\n",
      "43 -0.017195  0.217394  0.791769  3.354314  0\n",
      "44  0.269382  1.012739  2.538318  1.469868  0\n",
      "45 -0.590348 -1.108180 -0.372597  0.527645  0\n",
      "46  0.269382  1.012739  0.791769 -0.414578  0\n",
      "47 -1.163501 -0.577951 -0.372597 -0.414578  0\n",
      "48  0.842535  0.747624  0.209586 -0.414578  0\n",
      "49 -0.017195 -0.312836 -0.372597 -0.414578  0\n",
      "std of features of Versicolour : \n",
      "           0         1         2         3  4\n",
      "0   2.082260  1.384219  0.945854  0.378004  1\n",
      "1   0.908053  1.384219  0.515920  0.888820  1\n",
      "2   1.886558  1.062308  1.375787  0.888820  1\n",
      "3  -0.853257 -1.512984 -0.558914 -0.132812  1\n",
      "4   1.103754  0.096573  0.730887  0.888820  1\n",
      "5  -0.461855  0.096573  0.515920 -0.132812  1\n",
      "6   0.712352  1.706130  0.945854  1.399636  1\n",
      "7  -2.027463 -1.191072 -2.063681 -1.665261  1\n",
      "8   1.299455  0.418485  0.730887 -0.132812  1\n",
      "9  -1.440360 -0.225338 -0.773880  0.378004  1\n",
      "10 -1.831762 -2.478718 -1.633748 -1.665261  1\n",
      "11 -0.070452  0.740396 -0.128980  0.888820  1\n",
      "12  0.125249 -1.834895 -0.558914 -1.665261  1\n",
      "13  0.320950  0.418485  0.945854  0.378004  1\n",
      "14 -0.657556  0.418485 -1.418781 -0.132812  1\n",
      "15  1.495156  1.062308  0.300954  0.378004  1\n",
      "16 -0.657556  0.740396  0.515920  0.888820  1\n",
      "17 -0.266153 -0.225338 -0.343947 -1.665261  1\n",
      "18  0.516651 -1.834895  0.515920  0.888820  1\n",
      "19 -0.657556 -0.869161 -0.773880 -1.154444  1\n",
      "20 -0.070452  1.384219  1.160821  2.421268  1\n",
      "21  0.320950  0.096573 -0.558914 -0.132812  1\n",
      "22  0.712352 -0.869161  1.375787  0.888820  1\n",
      "23  0.320950  0.096573  0.945854 -0.643628  1\n",
      "24  0.908053  0.418485  0.085987 -0.132812  1\n",
      "25  1.299455  0.740396  0.300954  0.378004  1\n",
      "26  1.690857  0.096573  1.160821  0.378004  1\n",
      "27  1.495156  0.740396  1.590754  1.910452  1\n",
      "28  0.125249  0.418485  0.515920  0.888820  1\n",
      "29 -0.461855 -0.547249 -1.633748 -1.665261  1\n",
      "30 -0.853257 -1.191072 -0.988847 -1.154444  1\n",
      "31 -0.853257 -1.191072 -1.203814 -1.665261  1\n",
      "32 -0.266153 -0.225338 -0.773880 -0.643628  1\n",
      "33  0.125249 -0.225338  1.805721  1.399636  1\n",
      "34 -1.048958  0.740396  0.515920  0.888820  1\n",
      "35  0.125249  2.028042  0.515920  1.399636  1\n",
      "36  1.495156  1.062308  0.945854  0.888820  1\n",
      "37  0.712352 -1.512984  0.300954 -0.132812  1\n",
      "38 -0.657556  0.740396 -0.343947 -0.132812  1\n",
      "39 -0.853257 -0.869161 -0.558914 -0.132812  1\n",
      "40 -0.853257 -0.547249  0.300954 -0.643628  1\n",
      "41  0.320950  0.740396  0.730887  0.378004  1\n",
      "42 -0.266153 -0.547249 -0.558914 -0.643628  1\n",
      "43 -1.831762 -1.512984 -2.063681 -1.665261  1\n",
      "44 -0.657556 -0.225338 -0.128980 -0.132812  1\n",
      "45 -0.461855  0.740396 -0.128980 -0.643628  1\n",
      "46 -0.461855  0.418485 -0.128980 -0.132812  1\n",
      "47  0.516651  0.418485  0.085987 -0.132812  1\n",
      "48 -1.636061 -0.869161 -2.708582 -1.154444  1\n",
      "49 -0.461855  0.096573 -0.343947 -0.132812  1\n",
      "std of features of Virginica : \n",
      "           0         1         2         3  4\n",
      "0  -0.457514  1.021126  0.819990  1.743354  2\n",
      "1  -1.251810 -0.858247 -0.827312 -0.463423  2\n",
      "2   0.813359  0.081440  0.636957  0.272169  2\n",
      "3  -0.457514 -0.231789  0.087856 -0.831219  2\n",
      "4  -0.139796  0.081440  0.453923  0.639965  2\n",
      "5   1.607654  0.081440  1.918192  0.272169  2\n",
      "6  -2.681541 -1.484705 -1.925513 -1.199016  2\n",
      "7   1.131077 -0.231789  1.369091 -0.831219  2\n",
      "8   0.177922 -1.484705  0.453923 -0.831219  2\n",
      "9   0.972218  1.960813  1.003024  1.743354  2\n",
      "10 -0.139796  0.707897 -0.827312 -0.095627  2\n",
      "11 -0.298655 -0.858247 -0.461245 -0.463423  2\n",
      "12  0.336781  0.081440 -0.095177  0.272169  2\n",
      "13 -1.410669 -1.484705 -1.010345 -0.095627  2\n",
      "14 -1.251810 -0.545018 -0.827312  1.375558  2\n",
      "15 -0.298655  0.707897 -0.461245  1.007762  2\n",
      "16 -0.139796  0.081440 -0.095177 -0.831219  2\n",
      "17  1.766513  2.587270  2.101225  0.639965  2\n",
      "18  1.766513 -1.171476  2.467292  1.007762  2\n",
      "19 -0.934091 -2.424391 -1.010345 -1.934608  2\n",
      "20  0.495640  0.707897  0.270890  1.007762  2\n",
      "21 -1.569528 -0.545018 -1.193379 -0.095627  2\n",
      "22  1.766513 -0.545018  2.101225 -0.095627  2\n",
      "23 -0.457514 -0.858247 -1.193379 -0.831219  2\n",
      "24  0.177922  1.021126  0.270890  0.272169  2\n",
      "25  0.972218  0.707897  0.819990 -0.831219  2\n",
      "26 -0.616373 -0.545018 -1.376412 -0.831219  2\n",
      "27 -0.775232  0.081440 -1.193379 -0.831219  2\n",
      "28 -0.298655 -0.545018  0.087856  0.272169  2\n",
      "29  0.972218  0.081440  0.453923 -1.566812  2\n",
      "30  1.289936 -0.545018  1.003024 -0.463423  2\n",
      "31  2.084231  2.587270  1.552125 -0.095627  2\n",
      "32 -0.298655 -0.545018  0.087856  0.639965  2\n",
      "33 -0.457514 -0.545018 -0.827312 -1.934608  2\n",
      "34 -0.775232 -1.171476  0.087856 -2.302404  2\n",
      "35  1.766513  0.081440  1.003024  1.007762  2\n",
      "36 -0.457514  1.334355  0.087856  1.375558  2\n",
      "37 -0.298655  0.394668 -0.095177 -0.831219  2\n",
      "38 -0.934091  0.081440 -1.376412 -0.831219  2\n",
      "39  0.495640  0.394668 -0.278211  0.272169  2\n",
      "40  0.177922  0.394668  0.087856  1.375558  2\n",
      "41  0.495640  0.394668 -0.827312  1.007762  2\n",
      "42 -1.251810 -0.858247 -0.827312 -0.463423  2\n",
      "43  0.336781  0.707897  0.636957  1.007762  2\n",
      "44  0.177922  1.021126  0.270890  1.743354  2\n",
      "45  0.177922  0.081440 -0.644278  1.007762  2\n",
      "46 -0.457514 -1.484705 -1.010345 -0.463423  2\n",
      "47 -0.139796  0.081440 -0.644278 -0.095627  2\n",
      "48 -0.616373  1.334355 -0.278211  1.007762  2\n",
      "49 -1.092951  0.081440 -0.827312 -0.831219  2\n"
     ]
    }
   ],
   "source": [
    "for j in range(3):\n",
    "    for i in range(4):\n",
    "        std_dic.update({str(i) : [Std(x, M[i + j*4], D[i + j*4]) for x in df.loc[df[4] == j, i]]})\n",
    "    std_dic.update({'4' : j})\n",
    "    std_df = pd.DataFrame(std_dic)\n",
    "    print('std of features of '+ class_dic[j] + ' : ')\n",
    "    print(std_df)"
   ]
  },
  {
   "cell_type": "markdown",
   "metadata": {},
   "source": [
    "### Discussion"
   ]
  },
  {
   "cell_type": "markdown",
   "metadata": {},
   "source": [
    "一開始不是很熟悉pandas的檔案格式<br>\n",
    "所以利用print()跟type()試了很多次來了解語法<br>\n",
    "熟悉後就比較順了<br>\n",
    "把題目要的功能寫成functions，比較易讀易懂<br>\n",
    "利用dictionary的方便性，在print Mean跟deviation的時候省了很多行code<br>\n",
    "讓code乾淨很多"
   ]
  },
  {
   "cell_type": "markdown",
   "metadata": {},
   "source": [
    "## <u>Question 2</u>"
   ]
  },
  {
   "cell_type": "markdown",
   "metadata": {},
   "source": [
    "### Implementation"
   ]
  },
  {
   "cell_type": "markdown",
   "metadata": {},
   "source": [
    "##### 1.定義畫圖的函式\n",
    ">根據題目要求，需要畫出2個類別2個特徵值的散點圖\n",
    "* c 是類別的編號list(根據上面的class_dic)，如：若要比較Setosa和Virginica，c 要輸入 [0, 2]\n",
    "* f 是特徵的編號list(根據上面的feature_dic)\n",
    "* X1, Y1是種類1(c[0])的兩個特徵(f[0], f[1])以此類推"
   ]
  },
  {
   "cell_type": "code",
   "execution_count": 9,
   "metadata": {},
   "outputs": [],
   "source": [
    "def Plot(c, f, df):                 # c is class number list, f is feature number list, df is dataframe in \n",
    "    x1 = df.loc[df[4]== c[0], f[0]] # if c[0] = 0, f[0] = 0, x1 is Setosa sepal length list\n",
    "    y1 = df.loc[df[4]== c[0], f[1]] \n",
    "    x2 = df.loc[df[4]== c[1], f[0]]\n",
    "    y2 = df.loc[df[4]== c[1], f[1]]\n",
    "    plt.scatter(x1, y1,\n",
    "                color='red',\n",
    "                marker='o',\n",
    "                label=class_dic[c[0]]) # if c[0] = 0, lebel = 'Setosa'                                  \n",
    "    plt.scatter(x2, y2,\n",
    "                color='blue',\n",
    "                marker='o',\n",
    "                label=class_dic[c[1]])     \n",
    "    plt.xlabel(feature_dic[f[0]] + ' [cm]') # if f[0] = 0, xlebel is 'sepal lenth'\n",
    "    plt.ylabel(feature_dic[f[1]] + ' [cm]')\n",
    "    plt.legend(loc='upper left')\n",
    "    plt.show()"
   ]
  },
  {
   "cell_type": "markdown",
   "metadata": {},
   "source": [
    "### Result\n",
    "* feature_dic = {0:'sepal length', 1:'sepal width', 2:'petal length', 3:'petal width'}\n",
    "* class_dic = {0:'Setosa', 1:'Versicolour', 2:'Virginica'}"
   ]
  },
  {
   "cell_type": "markdown",
   "metadata": {},
   "source": [
    "###### 1. (sepal width, petal width) of setosa and veriscolor"
   ]
  },
  {
   "cell_type": "code",
   "execution_count": 10,
   "metadata": {
    "scrolled": true
   },
   "outputs": [
    {
     "data": {
      "image/png": "[encoded data removed]",
      "text/plain": [
       "<Figure size 432x288 with 1 Axes>"
      ]
     },
     "metadata": {
      "needs_background": "light"
     },
     "output_type": "display_data"
    }
   ],
   "source": [
    "Plot([0,1],[1,3], df) "
   ]
  },
  {
   "cell_type": "code",
   "execution_count": 11,
   "metadata": {
    "scrolled": true
   },
   "outputs": [
    {
     "data": {
      "image/png": "[encoded data removed]",
      "text/plain": [
       "<Figure size 432x288 with 1 Axes>"
      ]
     },
     "metadata": {
      "needs_background": "light"
     },
     "output_type": "display_data"
    }
   ],
   "source": [
    "Plot([0,2],[1,3], df) "
   ]
  },
  {
   "cell_type": "code",
   "execution_count": 12,
   "metadata": {},
   "outputs": [
    {
     "data": {
      "image/png": "[encoded data removed]",
      "text/plain": [
       "<Figure size 432x288 with 1 Axes>"
      ]
     },
     "metadata": {
      "needs_background": "light"
     },
     "output_type": "display_data"
    }
   ],
   "source": [
    "Plot([1,2],[1,3], df) "
   ]
  },
  {
   "cell_type": "markdown",
   "metadata": {},
   "source": [
    "##### 2.(sepal length, petal width) of veriscolor and virginica"
   ]
  },
  {
   "cell_type": "code",
   "execution_count": 13,
   "metadata": {
    "scrolled": true
   },
   "outputs": [
    {
     "data": {
      "image/png": "[encoded data removed]",
      "text/plain": [
       "<Figure size 432x288 with 1 Axes>"
      ]
     },
     "metadata": {
      "needs_background": "light"
     },
     "output_type": "display_data"
    }
   ],
   "source": [
    "Plot([1,2],[0,3], df)"
   ]
  },
  {
   "cell_type": "markdown",
   "metadata": {},
   "source": [
    "##### 3.(sepal length, petal length) of veriscolor and setosa."
   ]
  },
  {
   "cell_type": "code",
   "execution_count": 14,
   "metadata": {},
   "outputs": [
    {
     "data": {
      "image/png": "[encoded data removed]",
      "text/plain": [
       "<Figure size 432x288 with 1 Axes>"
      ]
     },
     "metadata": {
      "needs_background": "light"
     },
     "output_type": "display_data"
    }
   ],
   "source": [
    "Plot([0,1],[0,2], df)"
   ]
  },
  {
   "cell_type": "markdown",
   "metadata": {},
   "source": [
    "### Discussion"
   ]
  },
  {
   "cell_type": "markdown",
   "metadata": {},
   "source": [
    "原本想要複製三次code改裡面係數 <br>\n",
    "後來決定把畫圖的功能透過dictionary簡化成一個funtion<br>\n",
    "省了很多行code，一行plot一題<br>\n",
    "<br>\n",
    "原本print data的時候看得一頭霧水<br>\n",
    "也沒有感覺特徵跟類別的關聯性<br>\n",
    "但一畫圖分析就發現有些分界線很明顯<br>\n",
    "透過這次作業也讓我了解圖形化的重要性<br>\n",
    "能夠快速掌握資料的性質、分布<br>\n",
    "在之後才方便選擇後續分析的方式<br>"
   ]
  }
 ],
 "metadata": {
  "kernelspec": {
   "display_name": "Python 3",
   "language": "python",
   "name": "python3"
  },
  "language_info": {
   "codemirror_mode": {
    "name": "ipython",
    "version": 3
   },
   "file_extension": ".py",
   "mimetype": "text/x-python",
   "name": "python",
   "nbconvert_exporter": "python",
   "pygments_lexer": "ipython3",
   "version": "3.7.6"
  }
 },
 "nbformat": 4,
 "nbformat_minor": 4
}
