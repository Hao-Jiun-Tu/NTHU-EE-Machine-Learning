{
 "cells": [
  {
   "cell_type": "markdown",
   "metadata": {},
   "source": [
    "# <center>HW4</center> #\n",
    "####  107000105 楊晶宇\n",
    "***\n",
    "## <u>Question 1.1</u>\n",
    "## Implementation\n",
    "#### 1.引用函式庫"
   ]
  },
  {
   "cell_type": "code",
   "execution_count": 1,
   "metadata": {},
   "outputs": [],
   "source": [
    "import numpy as np\n",
    "import pandas as pd\n",
    "import math\n",
    "from numpy.random import seed\n",
    "import matplotlib.pyplot as plt\n",
    "from matplotlib.colors import ListedColormap\n",
    "from sklearn.model_selection import train_test_split\n",
    "from sklearn.preprocessing import StandardScaler\n",
    "from sklearn.linear_model import Perceptron, LogisticRegression\n",
    "from sklearn.metrics import accuracy_score\n",
    "from sklearn.svm import SVC\n",
    "from sklearn.tree import DecisionTreeClassifier\n",
    "from sklearn.ensemble import RandomForestClassifier\n",
    "from sklearn.neighbors import KNeighborsClassifier\n",
    "from sklearn.base import clone\n",
    "from itertools import combinations\n",
    "import copy\n",
    "from sklearn.model_selection import cross_val_score\n",
    "from sklearn.model_selection import GridSearchCV\n",
    "import time\n",
    "from sklearn.model_selection import StratifiedKFold\n",
    "from sklearn.pipeline import make_pipeline"
   ]
  },
  {
   "cell_type": "markdown",
   "metadata": {},
   "source": [
    "#### 2.定義繪圖函式(同HW3)"
   ]
  },
  {
   "cell_type": "markdown",
   "metadata": {},
   "source": [
    "#### 3. data preprocessing\n",
    "#### 1)讀資料\n",
    "觀察資料格式，幫columns上header"
   ]
  },
  {
   "cell_type": "code",
   "execution_count": 3,
   "metadata": {
    "scrolled": true
   },
   "outputs": [
    {
     "name": "stdout",
     "output_type": "stream",
     "text": [
      "(1728, 7)\n"
     ]
    },
    {
     "data": {
      "text/html": [
       "<div>\n",
       "<style scoped>\n",
       "    .dataframe tbody tr th:only-of-type {\n",
       "        vertical-align: middle;\n",
       "    }\n",
       "\n",
       "    .dataframe tbody tr th {\n",
       "        vertical-align: top;\n",
       "    }\n",
       "\n",
       "    .dataframe thead th {\n",
       "        text-align: right;\n",
       "    }\n",
       "</style>\n",
       "<table border=\"1\" class=\"dataframe\">\n",
       "  <thead>\n",
       "    <tr style=\"text-align: right;\">\n",
       "      <th></th>\n",
       "      <th>buying</th>\n",
       "      <th>maint</th>\n",
       "      <th>doors</th>\n",
       "      <th>persons</th>\n",
       "      <th>lug_boot</th>\n",
       "      <th>safety</th>\n",
       "      <th>class</th>\n",
       "    </tr>\n",
       "  </thead>\n",
       "  <tbody>\n",
       "    <tr>\n",
       "      <th>0</th>\n",
       "      <td>vhigh</td>\n",
       "      <td>vhigh</td>\n",
       "      <td>2</td>\n",
       "      <td>2</td>\n",
       "      <td>small</td>\n",
       "      <td>low</td>\n",
       "      <td>unacc</td>\n",
       "    </tr>\n",
       "    <tr>\n",
       "      <th>1</th>\n",
       "      <td>vhigh</td>\n",
       "      <td>vhigh</td>\n",
       "      <td>2</td>\n",
       "      <td>2</td>\n",
       "      <td>small</td>\n",
       "      <td>med</td>\n",
       "      <td>unacc</td>\n",
       "    </tr>\n",
       "    <tr>\n",
       "      <th>2</th>\n",
       "      <td>vhigh</td>\n",
       "      <td>vhigh</td>\n",
       "      <td>2</td>\n",
       "      <td>2</td>\n",
       "      <td>small</td>\n",
       "      <td>high</td>\n",
       "      <td>unacc</td>\n",
       "    </tr>\n",
       "    <tr>\n",
       "      <th>3</th>\n",
       "      <td>vhigh</td>\n",
       "      <td>vhigh</td>\n",
       "      <td>2</td>\n",
       "      <td>2</td>\n",
       "      <td>med</td>\n",
       "      <td>low</td>\n",
       "      <td>unacc</td>\n",
       "    </tr>\n",
       "    <tr>\n",
       "      <th>4</th>\n",
       "      <td>vhigh</td>\n",
       "      <td>vhigh</td>\n",
       "      <td>2</td>\n",
       "      <td>2</td>\n",
       "      <td>med</td>\n",
       "      <td>med</td>\n",
       "      <td>unacc</td>\n",
       "    </tr>\n",
       "  </tbody>\n",
       "</table>\n",
       "</div>"
      ],
      "text/plain": [
       "  buying  maint doors persons lug_boot safety  class\n",
       "0  vhigh  vhigh     2       2    small    low  unacc\n",
       "1  vhigh  vhigh     2       2    small    med  unacc\n",
       "2  vhigh  vhigh     2       2    small   high  unacc\n",
       "3  vhigh  vhigh     2       2      med    low  unacc\n",
       "4  vhigh  vhigh     2       2      med    med  unacc"
      ]
     },
     "execution_count": 3,
     "metadata": {},
     "output_type": "execute_result"
    }
   ],
   "source": [
    "df = pd.read_csv('http://archive.ics.uci.edu/ml/machine-learning-databases/car/car.data', header = None)\n",
    "print(df.shape)\n",
    "df.columns = ['buying', 'maint', 'doors', 'persons', 'lug_boot', 'safety', 'class']\n",
    "df.head()"
   ]
  },
  {
   "cell_type": "markdown",
   "metadata": {},
   "source": [
    "確認沒有Missing data"
   ]
  },
  {
   "cell_type": "code",
   "execution_count": 4,
   "metadata": {
    "scrolled": false
   },
   "outputs": [
    {
     "data": {
      "text/plain": [
       "buying      0\n",
       "maint       0\n",
       "doors       0\n",
       "persons     0\n",
       "lug_boot    0\n",
       "safety      0\n",
       "class       0\n",
       "dtype: int64"
      ]
     },
     "execution_count": 4,
     "metadata": {},
     "output_type": "execute_result"
    }
   ],
   "source": [
    "df.isnull().sum()"
   ]
  },
  {
   "cell_type": "markdown",
   "metadata": {},
   "source": [
    "#### 2.Maping\n",
    "因為資料皆為ordinal，所以用mapping的方式照關係順序填上數值"
   ]
  },
  {
   "cell_type": "code",
   "execution_count": 5,
   "metadata": {
    "scrolled": false
   },
   "outputs": [
    {
     "name": "stdout",
     "output_type": "stream",
     "text": [
      "buying : {'high': 3, 'low': 1, 'med': 2, 'vhigh': 4}\n",
      "maint : {'high': 3, 'low': 1, 'med': 2, 'vhigh': 4}\n",
      "doors : {'2': 1, '3': 2, '4': 3, '5more': 4}\n",
      "persons : {'2': 1, '4': 2, 'more': 3}\n",
      "lug_boot : {'big': 3, 'med': 2, 'small': 1}\n",
      "safety : {'high': 3, 'low': 1, 'med': 2}\n",
      "class : {'acc': 2, 'good': 3, 'unacc': 1, 'vgood': 4}\n"
     ]
    }
   ],
   "source": [
    "m = {'buying': {'high':3 , 'low': 1, 'med': 2, 'vhigh': 4},\n",
    "        'maint': {'high':3 , 'low': 1, 'med': 2, 'vhigh': 4}, \n",
    "        'doors': {'2': 1, '3': 2, '4': 3, '5more': 4},\n",
    "        'persons': {'2': 1, '4': 2, 'more': 3},\n",
    "        'lug_boot': {'big': 3, 'med': 2, 'small': 1},\n",
    "        'safety': {'high': 3, 'low': 1, 'med': 2},\n",
    "        'class': {'acc': 2, 'good': 3, 'unacc': 1, 'vgood': 4}}\n",
    "for h, M in m.items():\n",
    "    print(h, ':', M)\n",
    "    df[h] = df[h].map(M)"
   ]
  },
  {
   "cell_type": "markdown",
   "metadata": {},
   "source": [
    "#### 3.combine class\n",
    "應1.1要求，把class number 由 4 降為 2，1、2一個group，3、4一個group"
   ]
  },
  {
   "cell_type": "code",
   "execution_count": 6,
   "metadata": {},
   "outputs": [],
   "source": [
    "df1 = copy.deepcopy(df)\n",
    "m1 = {1:0, 2:0, 3:1, 4:1}\n",
    "df1['class'] = df1['class'].map(m1)"
   ]
  },
  {
   "cell_type": "markdown",
   "metadata": {},
   "source": [
    "切分數據、standardlize"
   ]
  },
  {
   "cell_type": "code",
   "execution_count": 7,
   "metadata": {},
   "outputs": [],
   "source": [
    "X = df1.iloc[:, :6]\n",
    "y = df1.iloc[:, 6]\n",
    "\n",
    "X_train, X_test, y_train, y_test = train_test_split(X, y, test_size=0.3, random_state=1, stratify=y)\n",
    "sc = StandardScaler()\n",
    "sc.fit(X_train)\n",
    "X_train_std = sc.transform(X_train)\n",
    "X_test_std = sc.transform(X_test)"
   ]
  },
  {
   "cell_type": "markdown",
   "metadata": {},
   "source": [
    "#### 4.train model\n",
    "用LogisticRegression、RandomForest、Decisiontree、SVM 訓練，參數選擇在下一題(1.2)會說明\n",
    "##### 1)LogisticRegression"
   ]
  },
  {
   "cell_type": "code",
   "execution_count": 8,
   "metadata": {
    "scrolled": true
   },
   "outputs": [
    {
     "name": "stdout",
     "output_type": "stream",
     "text": [
      "Misclassified examples of training set: 39\n",
      "ACC of training set: 0.9677419\n",
      "Misclassified examples of testing set: 31\n",
      "ACC of testing set : 0.9402697\n"
     ]
    }
   ],
   "source": [
    "lr = LogisticRegression(random_state = 1, solver = 'lbfgs', multi_class = 'ovr')\n",
    "lr.fit(X_train_std, y_train)\n",
    "y_pred = lr.predict(X_train_std)\n",
    "print('Misclassified examples of training set: %d' % (y_train != y_pred).sum())\n",
    "print('ACC of training set: %.7f' % lr.score(X_train_std, y_train))\n",
    "y_pred = lr.predict(X_test_std)\n",
    "print('Misclassified examples of testing set: %d' % (y_test != y_pred).sum())\n",
    "print('ACC of testing set : %.7f' % lr.score(X_test_std, y_test))"
   ]
  },
  {
   "cell_type": "markdown",
   "metadata": {},
   "source": [
    "##### 2)RandomForestClassifier"
   ]
  },
  {
   "cell_type": "code",
   "execution_count": 9,
   "metadata": {},
   "outputs": [
    {
     "name": "stdout",
     "output_type": "stream",
     "text": [
      "Misclassified examples of training set: 28\n",
      "ACC of training set: 0.9768404\n",
      "Misclassified examples of testing set: 20\n",
      "ACC of testing set : 0.9614644\n"
     ]
    }
   ],
   "source": [
    "forest = RandomForestClassifier(criterion = 'gini', n_estimators =100, min_samples_split = 20,  random_state = 1, n_jobs = 2)\n",
    "forest.fit(X_train_std, y_train)\n",
    "y_pred = forest.predict(X_train_std)\n",
    "print('Misclassified examples of training set: %d' % (y_train != y_pred).sum())\n",
    "print('ACC of training set: %.7f' % forest.score(X_train_std, y_train))\n",
    "y_pred = forest.predict(X_test_std)\n",
    "print('Misclassified examples of testing set: %d' % (y_test != y_pred).sum())\n",
    "print('ACC of testing set : %.7f' % forest.score(X_test_std, y_test))"
   ]
  },
  {
   "cell_type": "markdown",
   "metadata": {},
   "source": [
    "##### 3)DecisionTreeClassifier"
   ]
  },
  {
   "cell_type": "code",
   "execution_count": 10,
   "metadata": {
    "scrolled": true
   },
   "outputs": [
    {
     "name": "stdout",
     "output_type": "stream",
     "text": [
      "Misclassified examples of training set: 45\n",
      "ACC of training set: 0.9627792\n",
      "Misclassified examples of testing set: 21\n",
      "ACC of testing set : 0.9595376\n"
     ]
    }
   ],
   "source": [
    "tree = DecisionTreeClassifier(criterion = 'gini', min_samples_split = 12, max_leaf_nodes=5,  random_state = 1)\n",
    "tree.fit(X_train_std, y_train)\n",
    "y_pred = tree.predict(X_train_std)\n",
    "print('Misclassified examples of training set: %d' % (y_train != y_pred).sum())\n",
    "print('ACC of training set: %.7f' % tree.score(X_train_std, y_train))\n",
    "y_pred = tree.predict(X_test_std)\n",
    "print('Misclassified examples of testing set: %d' % (y_test != y_pred).sum())\n",
    "print('ACC of testing set : %.7f' % tree.score(X_test_std, y_test))"
   ]
  },
  {
   "cell_type": "markdown",
   "metadata": {},
   "source": [
    "###### 4)SVM"
   ]
  },
  {
   "cell_type": "code",
   "execution_count": 11,
   "metadata": {
    "scrolled": true
   },
   "outputs": [
    {
     "name": "stdout",
     "output_type": "stream",
     "text": [
      "Misclassified examples of training set: 0\n",
      "ACC of training set: 1.0000000\n",
      "Misclassified examples of testing set: 5\n",
      "ACC of testing set : 0.9903661\n"
     ]
    }
   ],
   "source": [
    "svm = SVC(C =100, gamma = 0.1, kernel = 'rbf', random_state = 1)\n",
    "svm.fit(X_train_std, y_train)\n",
    "y_pred = svm.predict(X_train_std)\n",
    "print('Misclassified examples of training set: %d' % (y_train != y_pred).sum())\n",
    "print('ACC of training set: %.7f' % svm.score(X_train_std, y_train))\n",
    "y_pred = svm.predict(X_test_std)\n",
    "print('Misclassified examples of testing set: %d' % (y_test != y_pred).sum())\n",
    "print('ACC of testing set : %.7f' % svm.score(X_test_std, y_test))"
   ]
  },
  {
   "cell_type": "markdown",
   "metadata": {},
   "source": [
    "在四組模型中，準確率表現最佳的是SVM，training acc有達100%，testing acc有達99% <br>\n",
    "因此選擇SVM作為我們訓練第一題的模型"
   ]
  },
  {
   "cell_type": "markdown",
   "metadata": {},
   "source": [
    "## <u>Question 1.2</u>"
   ]
  },
  {
   "cell_type": "code",
   "execution_count": 12,
   "metadata": {},
   "outputs": [],
   "source": [
    "X = df.iloc[:, :6].values\n",
    "y = df.iloc[:, 6].values\n",
    "\n",
    "X_train, X_test, y_train, y_test = train_test_split(X, y, test_size=0.3, random_state=1, stratify=y)\n",
    "sc = StandardScaler()\n",
    "sc.fit(X_train)\n",
    "X_train_std = sc.transform(X_train)\n",
    "X_test_std = sc.transform(X_test)"
   ]
  },
  {
   "cell_type": "markdown",
   "metadata": {},
   "source": [
    "#### 1.Fine-tune model via Grid Search"
   ]
  },
  {
   "cell_type": "markdown",
   "metadata": {},
   "source": [
    "為了要訓練到好一點的模型，我試著將我們學過的一些模型用Grid Search去調整參數，<br>\n",
    "比較每種模型中最佳參數的cross val score(因為cross val score比train set acc更有說服力，<br>\n",
    "比較不會過度fit train set裡的所有data，而是輪流取train set裡的一部分做test data算acc，<br>\n",
    "這樣平均的acc對我們在predict測試集的acc比較不會偏差太多)"
   ]
  },
  {
   "cell_type": "markdown",
   "metadata": {},
   "source": [
    "##### 1) SVM\n",
    "調整C, gama從0.0001一直到1000(等比級數，公比10)<br>\n",
    "調整kernel，分別是linear和rbf"
   ]
  },
  {
   "cell_type": "code",
   "execution_count": 13,
   "metadata": {},
   "outputs": [
    {
     "name": "stdout",
     "output_type": "stream",
     "text": [
      "time：53.021 S\n",
      "0.9793250688705232\n",
      "{'svc__C': 100.0, 'svc__gamma': 0.1, 'svc__kernel': 'rbf'}\n"
     ]
    }
   ],
   "source": [
    "start_time = time.time()\n",
    "pipe_svc = make_pipeline(StandardScaler(),SVC(random_state=1))\n",
    "param_range = [0.0001,0.001,0.01,0.1,1.0,10.0,100.0,1000.0]\n",
    "param_grid = [{'svc__C':param_range,'svc__kernel':['linear']},{'svc__C':param_range,'svc__gamma':param_range,'svc__kernel':['rbf']}]\n",
    "gs = GridSearchCV(estimator=pipe_svc,param_grid=param_grid,scoring='accuracy',cv=10)\n",
    "gs = gs.fit(X_train,y_train)\n",
    "end_time = time.time()\n",
    "print(\"time：%.3f S\" % float(end_time-start_time))\n",
    "print(gs.best_score_)\n",
    "print(gs.best_params_)"
   ]
  },
  {
   "cell_type": "markdown",
   "metadata": {},
   "source": [
    "##### 2)DecisionTree\n",
    "調整參數max_depth，從1~50放進去Grid Search"
   ]
  },
  {
   "cell_type": "code",
   "execution_count": 14,
   "metadata": {
    "scrolled": true
   },
   "outputs": [
    {
     "name": "stdout",
     "output_type": "stream",
     "text": [
      "time：0.741 S\n",
      "best score: 0.9760123966942148\n",
      "best params {'max_depth': 11}\n"
     ]
    }
   ],
   "source": [
    "start_time = time.time()\n",
    "param_grid=[{'max_depth':list(range(1, 50)) + [None]}]\n",
    "gs = GridSearchCV(estimator=DecisionTreeClassifier(random_state=1),param_grid=param_grid,scoring='accuracy',cv=10)\n",
    "gs = gs.fit(X_train_std,y_train)\n",
    "end_time = time.time()\n",
    "print(\"time：%.3f S\" % float(end_time-start_time))\n",
    "print('best score:', gs.best_score_)\n",
    "print('best params', gs.best_params_)"
   ]
  },
  {
   "cell_type": "markdown",
   "metadata": {},
   "source": [
    "##### 3)RandomForest\n",
    "調整max_depth從1到50(等差5)，調整max_leaf_nodes從10到50(等差5)"
   ]
  },
  {
   "cell_type": "code",
   "execution_count": 15,
   "metadata": {},
   "outputs": [
    {
     "name": "stdout",
     "output_type": "stream",
     "text": [
      "time：205.204 S\n",
      "best score: 0.9702066115702479\n",
      "best params {'max_depth': 11, 'max_leaf_nodes': None}\n"
     ]
    }
   ],
   "source": [
    "start_time = time.time()\n",
    "forest = RandomForestClassifier(n_estimators =100, random_state=1)\n",
    "param_grid=[{'max_depth':list(range(1, 51,5)) + [None], 'max_leaf_nodes':list(range(10,51,5))+ [None]}]\n",
    "gs = GridSearchCV(estimator=forest,param_grid=param_grid,scoring='accuracy',cv=10)\n",
    "gs = gs.fit(X_train_std,y_train)\n",
    "end_time = time.time()\n",
    "print(\"time：%.3f S\" % float(end_time-start_time))\n",
    "print('best score:', gs.best_score_)\n",
    "print('best params', gs.best_params_)"
   ]
  },
  {
   "cell_type": "markdown",
   "metadata": {},
   "source": [
    "##### 4)KNN\n",
    "調整參數n_neighbors從1到50，等差1"
   ]
  },
  {
   "cell_type": "code",
   "execution_count": 16,
   "metadata": {
    "scrolled": true
   },
   "outputs": [
    {
     "name": "stdout",
     "output_type": "stream",
     "text": [
      "time：5.553 S\n",
      "best score: 0.946232782369146\n",
      "best params {'n_neighbors': 7}\n"
     ]
    }
   ],
   "source": [
    "start_time = time.time()\n",
    "gs = GridSearchCV(estimator=KNeighborsClassifier(p = 2, metric = 'minkowski')\n",
    "                              ,param_grid=[{'n_neighbors':list(range(1,50,1))}],\n",
    "                                      scoring='accuracy',cv=10)\n",
    "gs = gs.fit(X_train_std,y_train)\n",
    "end_time = time.time()\n",
    "print(\"time：%.3f S\" % float(end_time-start_time))\n",
    "print('best score:', gs.best_score_)\n",
    "print('best params', gs.best_params_)"
   ]
  },
  {
   "cell_type": "markdown",
   "metadata": {},
   "source": [
    "##### 5)LogisticRegression\n",
    "條整參數C從0.0001到1000(公比10)"
   ]
  },
  {
   "cell_type": "code",
   "execution_count": 17,
   "metadata": {
    "scrolled": false
   },
   "outputs": [
    {
     "name": "stdout",
     "output_type": "stream",
     "text": [
      "time：2.140 S\n",
      "0.8180440771349863\n",
      "{'C': 100.0}\n"
     ]
    }
   ],
   "source": [
    "start_time = time.time()\n",
    "param_range = [0.0001,0.001,0.01,0.1,1.0,10.0,100.0,1000.0]\n",
    "gs = GridSearchCV(estimator=LogisticRegression(random_state = 1, solver = 'lbfgs', multi_class = 'ovr')\n",
    "                              ,param_grid=[{'C':param_range}],\n",
    "                                      scoring='accuracy',cv=10)\n",
    "gs = gs.fit(X_train_std,y_train)\n",
    "end_time = time.time()\n",
    "print(\"time：%.3f S\" % float(end_time-start_time))\n",
    "print(gs.best_score_)\n",
    "print(gs.best_params_)"
   ]
  },
  {
   "cell_type": "markdown",
   "metadata": {},
   "source": [
    "##### 補) 討論時間複雜度\n",
    "我們觀察上面所有model的time，可以發現RandomForest花費的時間最久，原因有很多<br>\n",
    "其一，RandomForest本身就是一個相較複雜的model<br>\n",
    "其二，我們給RandomForest的param_grid共有11(range(1,50,5) + NONE)*9(range(10,51, 5) + NONE)= 99種組合<br>\n",
    "等於跑了80個RandomForest的model(不一樣的param)<br>\n",
    "其三，每個model又跑了CV = 10，做了10輪交叉驗證，因此時間必為沒有Grid Search的990倍以上(還沒有考慮數值變化對model演算法複雜度的影響)\n",
    "\n",
    "影響時間長度的因素有：model本身的複雜度、cv值的大小、param_grid的組合數\n",
    "下面試試看單純的Forest時間測試："
   ]
  },
  {
   "cell_type": "code",
   "execution_count": 18,
   "metadata": {
    "scrolled": true
   },
   "outputs": [
    {
     "name": "stdout",
     "output_type": "stream",
     "text": [
      "time：0.268 S\n"
     ]
    }
   ],
   "source": [
    "start_time = time.time()\n",
    "forest = RandomForestClassifier(n_estimators =100, random_state=1)\n",
    "forest = forest.fit(X_train_std,y_train)\n",
    "end_time = time.time()\n",
    "print(\"time：%.3f S\" % float(end_time-start_time))"
   ]
  },
  {
   "cell_type": "markdown",
   "metadata": {},
   "source": [
    "時間為0.268s比205.204少快1000倍(只是大約，因為這個time有關CPU與電腦本身的狀況)"
   ]
  },
  {
   "cell_type": "markdown",
   "metadata": {},
   "source": [
    "#### 2.用Cross Validation選擇model\n",
    "由上面Grid Search後的結果我們可以得知SVM、DecisionTree和Randomforest表現都不錯，達97%<br>\n",
    "所以我們將上述三個的best param model拿出來用CV比較，看平均score(判斷精確性)及標準差(判斷穩定性)<br>\n",
    "(其實這一題的score和上面GS出來的score是一樣的，主要是要看標準差)"
   ]
  },
  {
   "cell_type": "code",
   "execution_count": 19,
   "metadata": {},
   "outputs": [
    {
     "name": "stdout",
     "output_type": "stream",
     "text": [
      "CV acc: 0.979 +- 0.008\n"
     ]
    }
   ],
   "source": [
    "svm = SVC(C =100, gamma = 0.1, kernel = 'rbf', random_state = 1)\n",
    "scores = cross_val_score(svm, X_train_std, y_train, scoring='accuracy',cv=10)\n",
    "print('CV acc: %.3f +- %.3f'% (np.mean(scores), np.std(scores)))"
   ]
  },
  {
   "cell_type": "code",
   "execution_count": 20,
   "metadata": {
    "scrolled": false
   },
   "outputs": [
    {
     "name": "stdout",
     "output_type": "stream",
     "text": [
      "CV acc: 0.970 +- 0.017\n"
     ]
    }
   ],
   "source": [
    "forest = RandomForestClassifier(criterion = 'gini', n_estimators = 100, max_depth = 11, random_state = 1, n_jobs = 2)\n",
    "scores = cross_val_score(forest, X_train_std, y_train, scoring='accuracy',cv=10)\n",
    "print('CV acc: %.3f +- %.3f'% (np.mean(scores), np.std(scores)))"
   ]
  },
  {
   "cell_type": "code",
   "execution_count": 21,
   "metadata": {
    "scrolled": false
   },
   "outputs": [
    {
     "name": "stdout",
     "output_type": "stream",
     "text": [
      "CV acc: 0.976 +- 0.011\n"
     ]
    }
   ],
   "source": [
    "tree = DecisionTreeClassifier(max_depth = 11, random_state=1)\n",
    "scores = cross_val_score(tree, X_train_std, y_train, scoring='accuracy',cv=10)\n",
    "print('CV acc: %.3f +- %.3f'% (np.mean(scores), np.std(scores)))"
   ]
  },
  {
   "cell_type": "markdown",
   "metadata": {},
   "source": [
    "由上面結果可以判斷：穩定性最高且精確度最高的是SVM<br>\n",
    "因此，我最後選擇用SVM(剛剛Grid Search tune好的參數)作為我1.1和1.2題classfication的model"
   ]
  },
  {
   "cell_type": "markdown",
   "metadata": {},
   "source": [
    "#### 4.testing on testing test"
   ]
  },
  {
   "cell_type": "markdown",
   "metadata": {},
   "source": [
    "試看看上面的SVM model training和testing(順便看看DecisionTree的結果)"
   ]
  },
  {
   "cell_type": "code",
   "execution_count": 22,
   "metadata": {},
   "outputs": [
    {
     "name": "stdout",
     "output_type": "stream",
     "text": [
      "Misclassified examples of training set: 2\n",
      "ACC of training set: 0.9983457\n",
      "Misclassified examples of testing set: 8\n",
      "ACC of testing set : 0.9845857\n"
     ]
    }
   ],
   "source": [
    "svm.fit(X_train_std, y_train)\n",
    "y_pred = svm.predict(X_train_std)\n",
    "print('Misclassified examples of training set: %d' % (y_train != y_pred).sum())\n",
    "print('ACC of training set: %.7f' % svm.score(X_train_std, y_train))\n",
    "y_pred = svm.predict(X_test_std)\n",
    "print('Misclassified examples of testing set: %d' % (y_test != y_pred).sum())\n",
    "print('ACC of testing set : %.7f' % svm.score(X_test_std, y_test))"
   ]
  },
  {
   "cell_type": "code",
   "execution_count": 23,
   "metadata": {
    "scrolled": true
   },
   "outputs": [
    {
     "name": "stdout",
     "output_type": "stream",
     "text": [
      "Misclassified examples of training set: 2\n",
      "ACC of training set: 0.9983457\n",
      "Misclassified examples of testing set: 10\n",
      "ACC of testing set : 0.9807322\n"
     ]
    }
   ],
   "source": [
    "tree.fit(X_train_std, y_train)\n",
    "y_pred = tree.predict(X_train_std)\n",
    "print('Misclassified examples of training set: %d' % (y_train != y_pred).sum())\n",
    "print('ACC of training set: %.7f' % tree.score(X_train_std, y_train))\n",
    "y_pred = tree.predict(X_test_std)\n",
    "print('Misclassified examples of testing set: %d' % (y_test != y_pred).sum())\n",
    "print('ACC of testing set : %.7f' % tree.score(X_test_std, y_test))"
   ]
  },
  {
   "cell_type": "markdown",
   "metadata": {},
   "source": [
    "發現果然和前面CV分析的一樣，SVM的準確度較高，結果***training set acc為99.83%，testing set acc為98.45%***"
   ]
  },
  {
   "cell_type": "markdown",
   "metadata": {},
   "source": [
    "## <u>Question 1.3</u>"
   ]
  },
  {
   "cell_type": "markdown",
   "metadata": {},
   "source": [
    "##### 1.定義SBS函式"
   ]
  },
  {
   "cell_type": "markdown",
   "metadata": {},
   "source": [
    "1.3主要是要做feature selection(analyze我寫在1.2了)，首先，先和老師上課講義一樣，定義SBS函式：<br>\n",
    "* self.indices_是儲存k_features個features indexs(如果k_features = 3, 則indices儲存的三個feature index為<br>\n",
    "  取三個train的集合中test acc最高的集合)\n",
    "* combination(list, r)主要是取list中大小為r的所有subsets，如下\n",
    "* 把剛剛combination return的所有subsets of features都丟進去estimator train，比較test acc，最高者丟進indices\n",
    "* 重複動作直到符合k_features的大小"
   ]
  },
  {
   "cell_type": "code",
   "execution_count": 24,
   "metadata": {
    "scrolled": true
   },
   "outputs": [
    {
     "name": "stdout",
     "output_type": "stream",
     "text": [
      "(1, 2, 3)\n",
      "(1, 2, 4)\n",
      "(1, 3, 4)\n",
      "(2, 3, 4)\n"
     ]
    }
   ],
   "source": [
    "for p in combinations([1,2,3,4], 3):\n",
    "    print(p)"
   ]
  },
  {
   "cell_type": "code",
   "execution_count": 25,
   "metadata": {},
   "outputs": [],
   "source": [
    "class SBS(object):\n",
    "    def __init__(self,estimator,k_features,scoring=accuracy_score,test_size=0.2,random_state=1):\n",
    "        self.scoring=scoring\n",
    "        self.estimator=clone(estimator)\n",
    "        self.k_features=k_features\n",
    "        self.test_size=test_size\n",
    "        self.random_state=random_state\n",
    "        \n",
    "    def fit(self,X,y):\n",
    "        X_train,X_test,y_train,y_test=train_test_split(X,y,test_size=self.test_size,random_state=self.random_state)\n",
    "        dim=X_train.shape[1]\n",
    "        self.indices_=tuple(range(dim))\n",
    "        self.subsets_=[self.indices_]\n",
    "        score=self._calc_score(X_train,X_test,y_train,y_test,self.indices_)\n",
    "        self.scores_=[score]\n",
    "        while dim>self.k_features:\n",
    "            scores=[]\n",
    "            subsets=[]\n",
    "            for p in combinations(self.indices_,r=dim-1):\n",
    "                score=self._calc_score(X_train,X_test,y_train,y_test,p)\n",
    "                scores.append(score)\n",
    "                subsets.append(p)\n",
    "            best=np.argmax(scores)\n",
    "            self.indices_=subsets[best]\n",
    "            self.subsets_.append(self.indices_)\n",
    "            dim-=1\n",
    "            self.scores_.append(scores[best])\n",
    "        self.k_score_=self.scores_[-1]\n",
    "        return self\n",
    "    \n",
    "    def transform(self,X):\n",
    "        return X[:,self.indices_]\n",
    "    \n",
    "    def _calc_score(self,X_train,X_test,y_train,y_test,indices):\n",
    "        self.estimator.fit(X_train[:,indices],y_train)\n",
    "        y_pred=self.estimator.predict(X_test[:,indices])\n",
    "        score=self.scoring(y_test,y_pred)\n",
    "        return score\n"
   ]
  },
  {
   "cell_type": "markdown",
   "metadata": {},
   "source": [
    "#### 2.套用在SVM、DecisionTree、RandomForest上\n",
    "##### 1)SVM"
   ]
  },
  {
   "cell_type": "code",
   "execution_count": 26,
   "metadata": {
    "scrolled": true
   },
   "outputs": [
    {
     "data": {
      "image/png": "[encoded data removed]",
      "text/plain": [
       "<Figure size 432x288 with 1 Axes>"
      ]
     },
     "metadata": {
      "needs_background": "light"
     },
     "output_type": "display_data"
    }
   ],
   "source": [
    "svm = SVC(C =100, gamma = 0.1, kernel = 'rbf', random_state = 1)\n",
    "sbs=SBS(svm,k_features=1)\n",
    "sbs.fit(X_train_std,y_train)\n",
    "k_feat=[len(k) for k in sbs.subsets_]\n",
    "plt.plot(k_feat,sbs.scores_,marker='o')\n",
    "plt.ylim([0.5,1.0])\n",
    "plt.ylabel('Accuracy')\n",
    "plt.xlabel('Number of features')\n",
    "plt.grid()\n",
    "plt.show()"
   ]
  },
  {
   "cell_type": "markdown",
   "metadata": {},
   "source": [
    "##### 2)DecisionTree"
   ]
  },
  {
   "cell_type": "code",
   "execution_count": 27,
   "metadata": {
    "scrolled": false
   },
   "outputs": [
    {
     "data": {
      "image/png": "[encoded data removed]",
      "text/plain": [
       "<Figure size 432x288 with 1 Axes>"
      ]
     },
     "metadata": {
      "needs_background": "light"
     },
     "output_type": "display_data"
    }
   ],
   "source": [
    "tree = DecisionTreeClassifier(criterion = 'gini',random_state = 1)\n",
    "sbs=SBS(tree,k_features=1)\n",
    "sbs.fit(X_train_std,y_train)\n",
    "k_feat=[len(k) for k in sbs.subsets_]\n",
    "plt.plot(k_feat,sbs.scores_,marker='o')\n",
    "plt.ylim([0.5,1.0])\n",
    "plt.ylabel('Accuracy')\n",
    "plt.xlabel('Number of features')\n",
    "plt.grid()\n",
    "plt.show()"
   ]
  },
  {
   "cell_type": "markdown",
   "metadata": {},
   "source": [
    "##### 3)RandomForest"
   ]
  },
  {
   "cell_type": "code",
   "execution_count": 28,
   "metadata": {
    "scrolled": true
   },
   "outputs": [
    {
     "data": {
      "image/png": "[encoded data removed]",
      "text/plain": [
       "<Figure size 432x288 with 1 Axes>"
      ]
     },
     "metadata": {
      "needs_background": "light"
     },
     "output_type": "display_data"
    }
   ],
   "source": [
    "forest = RandomForestClassifier(criterion = 'gini', n_estimators =100,  random_state = 1, n_jobs = 2)\n",
    "sbs=SBS(forest,k_features=1)\n",
    "sbs.fit(X_train_std,y_train)\n",
    "k_feat=[len(k) for k in sbs.subsets_]\n",
    "plt.plot(k_feat,sbs.scores_,marker='o')\n",
    "plt.ylim([0.5,1.0])\n",
    "plt.ylabel('Accuracy')\n",
    "plt.xlabel('Number of features')\n",
    "plt.grid()\n",
    "plt.show()"
   ]
  },
  {
   "cell_type": "markdown",
   "metadata": {},
   "source": [
    "觀察上面三張圖，我們可以發現三張圖都是斜直向上的線<br>\n",
    "這表示***如果從全部feature中拿掉一個以上的feature，都會降低ACC***<br>\n",
    "因為每一個點代表C 6 取 n的Subsets of features中ACC最高的subset<br>\n",
    "最右邊的點代表feature全取的ACC，其為最高表示沒有降低features數量的必要性<br>"
   ]
  },
  {
   "cell_type": "markdown",
   "metadata": {},
   "source": [
    "##### 3.SBS transform\n",
    "觀察SVM的圖，我們可以用SBS試試看k_features=1帶入看選出的第一名的features:"
   ]
  },
  {
   "cell_type": "code",
   "execution_count": 29,
   "metadata": {},
   "outputs": [
    {
     "name": "stdout",
     "output_type": "stream",
     "text": [
      "(0,)\n"
     ]
    }
   ],
   "source": [
    "sbs=SBS(svm,k_features=1)\n",
    "sbs.fit(X_train_std,y_train)\n",
    "print(sbs.indices_)"
   ]
  },
  {
   "cell_type": "markdown",
   "metadata": {},
   "source": [
    "表示feature 0(buying)最重要，試看看k_features = 5:"
   ]
  },
  {
   "cell_type": "code",
   "execution_count": 30,
   "metadata": {},
   "outputs": [
    {
     "name": "stdout",
     "output_type": "stream",
     "text": [
      "(0, 1, 3, 4, 5)\n"
     ]
    }
   ],
   "source": [
    "sbs=SBS(svm,k_features=5)\n",
    "sbs.fit(X_train_std,y_train)\n",
    "print(sbs.indices_)"
   ]
  },
  {
   "cell_type": "markdown",
   "metadata": {},
   "source": [
    "代表feature 2(maint 維修費)最不重要，試看看5個features下去train是不是跟預期一樣，ACC會降低："
   ]
  },
  {
   "cell_type": "code",
   "execution_count": 31,
   "metadata": {},
   "outputs": [
    {
     "name": "stdout",
     "output_type": "stream",
     "text": [
      "Misclassified examples of training set: 47\n",
      "ACC of training set: 0.9611249\n",
      "Misclassified examples of testing set: 21\n",
      "ACC of testing set : 0.9595376\n"
     ]
    }
   ],
   "source": [
    "sbs=SBS(svm,k_features=5)\n",
    "sbs.fit(X_train_std,y_train)\n",
    "X_train_sbs = sbs.transform(X_train_std)\n",
    "X_test_sbs = sbs.transform(X_test_std)\n",
    "svm = SVC(C =100, gamma = 0.1, kernel = 'rbf', random_state = 1)\n",
    "svm.fit(X_train_sbs,y_train)\n",
    "y_pred = svm.predict(X_train_sbs)\n",
    "print('Misclassified examples of training set: %d' % (y_train != y_pred).sum())\n",
    "print('ACC of training set: %.7f' % svm.score(X_train_sbs, y_train))\n",
    "y_pred = svm.predict(X_test_sbs)\n",
    "print('Misclassified examples of testing set: %d' % (y_test != y_pred).sum())\n",
    "print('ACC of testing set : %.7f' % svm.score(X_test_sbs, y_test))"
   ]
  },
  {
   "cell_type": "markdown",
   "metadata": {},
   "source": [
    "結果如預期，ACC降低約3%，表示feature不用再拔掉，ACC不會提高"
   ]
  },
  {
   "cell_type": "markdown",
   "metadata": {},
   "source": [
    "#### 4.PCA"
   ]
  },
  {
   "cell_type": "markdown",
   "metadata": {},
   "source": [
    "用老師上課說過的PCA降維，試試看training的效果(一樣用Grid Search)"
   ]
  },
  {
   "cell_type": "code",
   "execution_count": 32,
   "metadata": {
    "scrolled": true
   },
   "outputs": [],
   "source": [
    "from sklearn.decomposition import PCA\n",
    "pca = PCA(n_components=2)\n",
    "X_train_pca = pca.fit_transform(X_train)\n",
    "X_test_pca = pca.transform(X_test)"
   ]
  },
  {
   "cell_type": "code",
   "execution_count": 35,
   "metadata": {},
   "outputs": [
    {
     "name": "stdout",
     "output_type": "stream",
     "text": [
      "time：17.439 S\n",
      "0.7692079889807163\n",
      "{'svc__C': 10.0, 'svc__gamma': 100.0, 'svc__kernel': 'rbf'}\n"
     ]
    }
   ],
   "source": [
    "start_time = time.time()\n",
    "pipe_svc = make_pipeline(StandardScaler(),SVC(random_state=1))\n",
    "param_range = [0.0001,0.001,0.01,0.1,1.0,10.0,100.0]\n",
    "param_grid = [{'svc__C':param_range,'svc__kernel':['linear']},{'svc__C':param_range,'svc__gamma':param_range,'svc__kernel':['rbf']}]\n",
    "gs = GridSearchCV(estimator=pipe_svc,param_grid=param_grid,scoring='accuracy',cv=10)\n",
    "gs = gs.fit(X_train_pca,y_train)\n",
    "end_time = time.time()\n",
    "print(\"time：%.3f S\" % float(end_time-start_time))\n",
    "print(gs.best_score_)\n",
    "print(gs.best_params_)"
   ]
  },
  {
   "cell_type": "code",
   "execution_count": 34,
   "metadata": {
    "scrolled": true
   },
   "outputs": [
    {
     "name": "stdout",
     "output_type": "stream",
     "text": [
      "time：2.444 S\n",
      "best score: 0.7245592286501378\n",
      "best params {'max_depth': 17}\n"
     ]
    }
   ],
   "source": [
    "start_time = time.time()\n",
    "param_grid=[{'max_depth':list(range(1, 50)) + [None]}]\n",
    "gs = GridSearchCV(estimator=DecisionTreeClassifier(random_state=1),param_grid=param_grid,scoring='accuracy',cv=10)\n",
    "gs = gs.fit(X_train_pca,y_train)\n",
    "end_time = time.time()\n",
    "print(\"time：%.3f S\" % float(end_time-start_time))\n",
    "print('best score:', gs.best_score_)\n",
    "print('best params', gs.best_params_)"
   ]
  },
  {
   "cell_type": "markdown",
   "metadata": {},
   "source": [
    "#### 定義繪圖函式(同HW3)"
   ]
  },
  {
   "cell_type": "code",
   "execution_count": 36,
   "metadata": {},
   "outputs": [],
   "source": [
    "def plot_decision_regions(X, y, classifier, test_idx=0, xlabel = '0', ylabel = '1', resolution=0.02):\n",
    "\n",
    "    if test_idx == 0:\n",
    "        test_idx = len(X)\n",
    "        \n",
    "    # setup marker generator and color map\n",
    "    markers = ('s', '^', 'o', 'x', 'v')\n",
    "    colors = ('red', 'blue', 'Chartreuse', 'gray', 'cyan')\n",
    "    cmap = ListedColormap(colors[:len(np.unique(y))])\n",
    "    dcolors = ('DarkRed', 'DarkBlue', 'DarkGreen', 'DarkGray', 'DarkCyan')\n",
    "    dcmap = ListedColormap(dcolors[:len(np.unique(y))])\n",
    "    tcolors = ('MistyRose', 'PaleTurquoise','PaleGreen','Gray','Gray')\n",
    "    tcmap = ListedColormap(tcolors[:len(np.unique(y))])\n",
    "    \n",
    "    # plot the decision surface\n",
    "    x1_min, x1_max = X[:, 0].min() - 1, X[:, 0].max() + 1\n",
    "    x2_min, x2_max = X[:, 1].min() - 1, X[:, 1].max() + 1\n",
    "    xx1, xx2 = np.meshgrid(np.arange(x1_min, x1_max, resolution),\n",
    "                           np.arange(x2_min, x2_max, resolution))\n",
    "    Z = classifier.predict(np.array([xx1.ravel(), xx2.ravel()]).T)\n",
    "    Z = Z.reshape(xx1.shape)\n",
    "    plt.contourf(xx1, xx2, Z, alpha=0.4, cmap=tcmap)\n",
    "    plt.xlim(xx1.min(), xx1.max())\n",
    "    plt.ylim(xx2.min(), xx2.max())\n",
    "    \n",
    "    X_train, y_train = X[:(test_idx-1),:], y[:(test_idx -1)]\n",
    "\n",
    "    for idx, cl in enumerate(np.unique(y)):\n",
    "        plt.scatter(x=X_train[y_train == cl, 0], y=X_train[y_train == cl, 1],\n",
    "                    alpha=0.8, color=cmap(idx),\n",
    "                    marker='o', label='train' + str(cl))\n",
    "\n",
    "    # highlight test samples\n",
    "    if test_idx:\n",
    "        # plot all samples\n",
    "        X_test, y_test = X[test_idx:, :], y[test_idx:]\n",
    "        for idx, cl in enumerate(np.unique(y_test)):\n",
    "            plt.scatter(x=X_test[y_test == cl, 0], y=X_test[y_test == cl, 1],\n",
    "                    alpha=0.8, color=dcmap(idx),edgecolor = ['black'],\n",
    "                    marker=markers[idx], label='test' + str(cl),\n",
    "                    linewidths=1)\n",
    "    plt.legend(loc = 'upper left')\n",
    "    plt.xlabel(xlabel)\n",
    "    plt.ylabel(ylabel)\n",
    "    plt.show()"
   ]
  },
  {
   "cell_type": "markdown",
   "metadata": {},
   "source": [
    "把剛剛上面tune好的參數帶入model，繪圖觀察PCA的結果及decision region："
   ]
  },
  {
   "cell_type": "code",
   "execution_count": 40,
   "metadata": {
    "scrolled": true
   },
   "outputs": [
    {
     "name": "stdout",
     "output_type": "stream",
     "text": [
      "Misclassified examples of training set: 128\n",
      "ACC of training set: 0.8941274\n",
      "Misclassified examples of testing set: 102\n",
      "ACC of testing set : 0.8034682\n"
     ]
    },
    {
     "data": {
      "image/png": "[encoded data removed]",
      "text/plain": [
       "<Figure size 432x288 with 1 Axes>"
      ]
     },
     "metadata": {
      "needs_background": "light"
     },
     "output_type": "display_data"
    }
   ],
   "source": [
    "svm = SVC(C =10, gamma = 100, kernel = 'rbf', random_state = 1)\n",
    "svm.fit(X_train_pca, y_train)\n",
    "y_pred = svm.predict(X_train_pca)\n",
    "print('Misclassified examples of training set: %d' % (y_train != y_pred).sum())\n",
    "print('ACC of training set: %.7f' % svm.score(X_train_pca, y_train))\n",
    "y_pred = svm.predict(X_test_pca)\n",
    "print('Misclassified examples of testing set: %d' % (y_test != y_pred).sum())\n",
    "print('ACC of testing set : %.7f' % svm.score(X_test_pca, y_test))\n",
    "plot_decision_regions(X_train_pca, y_train, svm)"
   ]
  },
  {
   "cell_type": "markdown",
   "metadata": {},
   "source": [
    "可以發現，PCA大致上有保留features的特徵，紅、藍、綠、灰點大致上有分開<br>\n",
    "但是model沒有比4個feature全留還要準，原因在於PCA還是壓縮掉了一些細節資訊<br>\n",
    "部分重要資訊遺失導致準確率沒有比features全取還要高"
   ]
  },
  {
   "cell_type": "markdown",
   "metadata": {},
   "source": [
    "### conclusion\n"
   ]
  },
  {
   "cell_type": "markdown",
   "metadata": {},
   "source": [
    "這次作業讓我們練習了很多方法把model train得更好：\n",
    "* Grid Search就像是暴力解，把所有參數組合都fit一遍，尋找最佳參數，減少了我們手動tune參數的時間\n",
    "* Cross Validation讓我們能夠分析一個model的穩定度及效能\n",
    "* 利用kfold來tune參數也能夠使model更加穩定，降低overfitting、data imbalance的影響\n",
    "* Feature Selection能夠挑掉不重要的參數，雖然這次作業沒辦法挑掉feature，但像上次作業feature很多就可以\n",
    "* PCA能夠降低features的維度，過濾掉不重要的資訊\n",
    "<br>發現越做到後面，電腦要run的時間越久，也代表電腦也在花時間\"learn\"，時間換取的就是準確率，<br>\n",
    "做完很有成就感，期待後面的課程內容"
   ]
  }
 ],
 "metadata": {
  "kernelspec": {
   "display_name": "Python 3",
   "language": "python",
   "name": "python3"
  },
  "language_info": {
   "codemirror_mode": {
    "name": "ipython",
    "version": 3
   },
   "file_extension": ".py",
   "mimetype": "text/x-python",
   "name": "python",
   "nbconvert_exporter": "python",
   "pygments_lexer": "ipython3",
   "version": "3.7.6"
  }
 },
 "nbformat": 4,
 "nbformat_minor": 4
}
